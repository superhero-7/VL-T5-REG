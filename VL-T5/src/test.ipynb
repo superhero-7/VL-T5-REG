{
 "cells": [
  {
   "cell_type": "code",
   "execution_count": 2,
   "metadata": {
    "collapsed": true
   },
   "outputs": [],
   "source": [
    "import h5py\n",
    "\n",
    "# f = h5py.File('/workspace/yfl/codebase/VL-T5/datasets/RefCOCO/refcocog/features/train_boxes_mattnet.h5', 'r')\n",
    "f = h5py.File('/workspace/yfl/datasets/ref/refcocog/features/val_obj36.h5', 'r')\n",
    "#f = h5py.File('/workspace/yfl/codebase/VL-T5/datasets/COCO/features/train2014_GT.h5', 'r')"
   ]
  },
  {
   "cell_type": "code",
   "execution_count": 5,
   "outputs": [
    {
     "name": "stdout",
     "output_type": "stream",
     "text": [
      "/100034/attr_conf\n",
      "/100034/attr_id\n",
      "/100034/boxes\n",
      "/100034/features\n",
      "/100034/img_h\n",
      "/100034/img_w\n",
      "/100034/obj_conf\n",
      "/100034/obj_id\n"
     ]
    }
   ],
   "source": [
    "for item in f['100034'].keys():\n",
    "    print(f['100034'][item].name)\n",
    "    #print(f['100034'][item][()])\n",
    "    #print(\"==========================\")"
   ],
   "metadata": {
    "collapsed": false,
    "pycharm": {
     "name": "#%%\n"
    }
   }
  },
  {
   "cell_type": "code",
   "execution_count": 6,
   "outputs": [
    {
     "name": "stdout",
     "output_type": "stream",
     "text": [
      "(36, 2048)\n"
     ]
    }
   ],
   "source": [
    "print(f['100034']['features'].shape)\n"
   ],
   "metadata": {
    "collapsed": false,
    "pycharm": {
     "name": "#%%\n"
    }
   }
  },
  {
   "cell_type": "code",
   "execution_count": 13,
   "outputs": [
    {
     "name": "stdout",
     "output_type": "stream",
     "text": [
      "loading dataset refcocog into memory...\n",
      "creating index...\n",
      "index created.\n",
      "DONE (t=6.21s)\n"
     ]
    }
   ],
   "source": [
    "import os\n",
    "workspace_dir = '/workspace/yfl/codebase/VL-T5/VL-T5/src/'\n",
    "import sys\n",
    "if workspace_dir not in sys.path:\n",
    "    sys.path.append(workspace_dir)\n",
    "\n",
    "from refcoco_utils import REFER\n",
    "refer = REFER('refcocog', 'umd')"
   ],
   "metadata": {
    "collapsed": false,
    "pycharm": {
     "name": "#%%\n"
    }
   }
  },
  {
   "cell_type": "code",
   "execution_count": 19,
   "outputs": [
    {
     "data": {
      "text/plain": "{'image_id': 460986,\n 'split': 'train',\n 'sentences': [{'tokens': ['the', 'bowl', 'furthest', 'to', 'the', 'left'],\n   'raw': 'the bowl furthest to the left.',\n   'sent_id': 68779,\n   'sent': 'the bowl furthest to the left'},\n  {'tokens': ['darker', 'colored', 'vase'],\n   'raw': 'darker colored vase',\n   'sent_id': 68780,\n   'sent': 'darker colored vase'}],\n 'file_name': 'COCO_train2014_000000460986_1993516.jpg',\n 'category_id': 86,\n 'ann_id': 1993516,\n 'sent_ids': [68779, 68780],\n 'ref_id': 31434}"
     },
     "execution_count": 19,
     "metadata": {},
     "output_type": "execute_result"
    }
   ],
   "source": [
    "import random\n",
    "ref_ids = refer.getRefIds(split='train')\n",
    "ref_id = random.choice(ref_ids)\n",
    "\n",
    "ref = refer.Refs[ref_id]\n",
    "ann = refer.refToAnn[ref_id]\n",
    "\n",
    "ref"
   ],
   "metadata": {
    "collapsed": false,
    "pycharm": {
     "name": "#%%\n"
    }
   }
  },
  {
   "cell_type": "code",
   "execution_count": 18,
   "outputs": [
    {
     "data": {
      "text/plain": "{'segmentation': [[426.6,\n   348.92,\n   461.18,\n   354.01,\n   476.44,\n   349.94,\n   483.56,\n   355.03,\n   492.72,\n   374.35,\n   484.58,\n   388.59,\n   471.36,\n   415.04,\n   474.41,\n   434.37,\n   477.46,\n   454.71,\n   454.06,\n   478.11,\n   435.75,\n   478.11,\n   397.1,\n   469.97,\n   376.76,\n   441.49,\n   376.76,\n   421.14,\n   380.83,\n   383.51,\n   381.84,\n   359.1,\n   391.0,\n   343.84,\n   417.44,\n   345.87,\n   432.7,\n   354.01]],\n 'area': 12104.233250000005,\n 'iscrowd': 0,\n 'image_id': 80562,\n 'bbox': [376.76, 343.84, 115.96, 134.27],\n 'category_id': 88,\n 'id': 1996726}"
     },
     "execution_count": 18,
     "metadata": {},
     "output_type": "execute_result"
    }
   ],
   "source": [
    "ann\n"
   ],
   "metadata": {
    "collapsed": false,
    "pycharm": {
     "name": "#%%\n"
    }
   }
  },
  {
   "cell_type": "code",
   "execution_count": 21,
   "outputs": [
    {
     "data": {
      "text/plain": "(208960, 42226)"
     },
     "execution_count": 21,
     "metadata": {},
     "output_type": "execute_result"
    }
   ],
   "source": [
    "ann_ids = refer.getAnnIds()\n",
    "len(ann_ids),len(ref_ids)"
   ],
   "metadata": {
    "collapsed": false,
    "pycharm": {
     "name": "#%%\n"
    }
   }
  },
  {
   "cell_type": "code",
   "execution_count": 22,
   "outputs": [
    {
     "data": {
      "text/plain": "(49820, 49822)"
     },
     "execution_count": 22,
     "metadata": {},
     "output_type": "execute_result"
    }
   ],
   "source": [
    "len(refer.annToRef),len(refer.refToAnn)\n"
   ],
   "metadata": {
    "collapsed": false,
    "pycharm": {
     "name": "#%%\n"
    }
   }
  },
  {
   "cell_type": "code",
   "execution_count": 23,
   "outputs": [
    {
     "data": {
      "text/plain": "[0.0, 237.35, 160.82, 160.81]"
     },
     "execution_count": 23,
     "metadata": {},
     "output_type": "execute_result"
    }
   ],
   "source": [
    "box = refer.getRefBox(ref_id)\n",
    "box\n"
   ],
   "metadata": {
    "collapsed": false,
    "pycharm": {
     "name": "#%%\n"
    }
   }
  },
  {
   "cell_type": "code",
   "execution_count": 24,
   "outputs": [],
   "source": [
    "f_target = h5py.File('/workspace/yfl/datasets/ref/refcocog/features/val_target.h5', 'r')\n"
   ],
   "metadata": {
    "collapsed": false,
    "pycharm": {
     "name": "#%%\n"
    }
   }
  },
  {
   "cell_type": "code",
   "execution_count": 25,
   "outputs": [
    {
     "name": "stdout",
     "output_type": "stream",
     "text": [
      "10004\n"
     ]
    }
   ],
   "source": [
    "for x in f_target:\n",
    "    print(x)\n",
    "    break\n"
   ],
   "metadata": {
    "collapsed": false,
    "pycharm": {
     "name": "#%%\n"
    }
   }
  },
  {
   "cell_type": "code",
   "execution_count": 28,
   "outputs": [
    {
     "name": "stdout",
     "output_type": "stream",
     "text": [
      "(37, 2048)\n"
     ]
    }
   ],
   "source": [
    "import numpy as np\n",
    "# f_target['10004']['features']\n",
    "new_feature = np.concatenate((f['100034']['features'],f_target['10004']['features']), axis=0)\n",
    "print(new_feature.shape)"
   ],
   "metadata": {
    "collapsed": false,
    "pycharm": {
     "name": "#%%\n"
    }
   }
  },
  {
   "cell_type": "code",
   "execution_count": 39,
   "outputs": [
    {
     "data": {
      "text/plain": "((36, 4), (1, 4))"
     },
     "execution_count": 39,
     "metadata": {},
     "output_type": "execute_result"
    }
   ],
   "source": [
    "boxes = f['100034']['boxes']\n",
    "target_boxes = f_target['10004']['boxes']\n",
    "boxes.shape,target_boxes.shape"
   ],
   "metadata": {
    "collapsed": false,
    "pycharm": {
     "name": "#%%\n"
    }
   }
  },
  {
   "cell_type": "code",
   "execution_count": 40,
   "outputs": [
    {
     "data": {
      "text/plain": "(37, 4)"
     },
     "execution_count": 40,
     "metadata": {},
     "output_type": "execute_result"
    }
   ],
   "source": [
    "boxes = np.concatenate((boxes, target_boxes),axis=0)\n",
    "boxes.shape"
   ],
   "metadata": {
    "collapsed": false,
    "pycharm": {
     "name": "#%%\n"
    }
   }
  },
  {
   "cell_type": "code",
   "execution_count": 43,
   "outputs": [
    {
     "data": {
      "text/plain": "<HDF5 dataset \"features\": shape (1, 2048), type \"<f4\">"
     },
     "execution_count": 43,
     "metadata": {},
     "output_type": "execute_result"
    }
   ],
   "source": [
    "f_target['7755']['features']"
   ],
   "metadata": {
    "collapsed": false,
    "pycharm": {
     "name": "#%%\n"
    }
   }
  },
  {
   "cell_type": "code",
   "execution_count": 48,
   "outputs": [
    {
     "name": "stdout",
     "output_type": "stream",
     "text": [
      "5023\n",
      "2573\n",
      "42226\n"
     ]
    }
   ],
   "source": [
    "print(len(refer.getRefIds(split='test')))\n",
    "print(len(refer.getRefIds(split='val')))\n",
    "print(len(refer.getRefIds(split='train')))"
   ],
   "metadata": {
    "collapsed": false,
    "pycharm": {
     "name": "#%%\n"
    }
   }
  },
  {
   "cell_type": "code",
   "execution_count": null,
   "outputs": [],
   "source": [],
   "metadata": {
    "collapsed": false,
    "pycharm": {
     "name": "#%%\n"
    }
   }
  }
 ],
 "metadata": {
  "kernelspec": {
   "name": "conda-env-vlt5-py",
   "language": "python",
   "display_name": "Python [conda env:vlt5] *"
  },
  "language_info": {
   "codemirror_mode": {
    "name": "ipython",
    "version": 2
   },
   "file_extension": ".py",
   "mimetype": "text/x-python",
   "name": "python",
   "nbconvert_exporter": "python",
   "pygments_lexer": "ipython2",
   "version": "2.7.6"
  }
 },
 "nbformat": 4,
 "nbformat_minor": 0
}